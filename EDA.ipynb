{
 "cells": [
  {
   "cell_type": "code",
   "execution_count": 20,
   "id": "a5c29c08-223b-431c-a522-c13aa092702f",
   "metadata": {},
   "outputs": [
    {
     "name": "stdout",
     "output_type": "stream",
     "text": [
      "Estadísticas Descriptivas:\n",
      "              Likes  Comentarios  Visualizaciones  Duración del video (s)\n",
      "count    121.000000   121.000000       121.000000              121.000000\n",
      "mean    1316.371901    39.008264     15391.876033               50.079124\n",
      "std     1930.321602    48.724480     39250.143838               18.219889\n",
      "min      304.000000     3.000000      2277.000000               26.000000\n",
      "25%      640.000000    18.000000      4926.000000               38.133000\n",
      "50%      828.000000    27.000000      6294.000000               45.900000\n",
      "75%     1250.000000    39.000000     10244.000000               56.200000\n",
      "max    14659.000000   361.000000    337001.000000              133.491000\n",
      "\n",
      "Top 5 videos con más Likes:\n",
      "                                       Texto del reel  Likes  Comentarios  \\\n",
      "72  🇮🇨 Soy canario y hasta hace un tiempo no sabía...  14659          361   \n",
      "99  ⚓️ La construcción del Puerto de la Luz supuso...  14514          333   \n",
      "79  🏄🏽‍♂️ Cerca de la playa de Las Canteras, por l...   5259           99   \n",
      "67  🚂 Hace 50 años un tren atravesó la avenida mar...   4497          179   \n",
      "56  🇮🇨 Mucha gente desconoce que en el año 1755 co...   4384          110   \n",
      "\n",
      "    Visualizaciones  \n",
      "72           255191  \n",
      "99           337001  \n",
      "79            82054  \n",
      "67            69165  \n",
      "56            38606  \n"
     ]
    },
    {
     "name": "stderr",
     "output_type": "stream",
     "text": [
      "C:\\Users\\henry\\AppData\\Local\\Temp\\ipykernel_7376\\1629292173.py:43: UserWarning:\n",
      "\n",
      "set_ticklabels() should only be used with a fixed number of ticks, i.e. after set_ticks() or using a FixedLocator.\n",
      "\n",
      "C:\\Users\\henry\\AppData\\Local\\Temp\\ipykernel_7376\\1629292173.py:54: UserWarning:\n",
      "\n",
      "set_ticklabels() should only be used with a fixed number of ticks, i.e. after set_ticks() or using a FixedLocator.\n",
      "\n"
     ]
    },
    {
     "data": {
      "application/vnd.plotly.v1+json": {
       "config": {
        "plotlyServerURL": "https://plot.ly"
       },
       "data": [
        {
         "customdata": [
          [
           "Descubre el origen de Llanos de la Pez en Gran Canaria"
          ],
          [
           "La división histórica de Los Realejos: Alto vs Bajo"
          ],
          [
           "La increíble parada de Magallanes y Elcano en Tenerife."
          ],
          [
           "Descubre la mágica Fuente Luminosa de Las Palmas de Gran Canaria"
          ],
          [
           "Descubre la encantadora iglesia de Nuestra Señora de la Candelaria"
          ],
          [
           "Descubre el origen de La Cicer en Las Palmas"
          ],
          [
           "Descubre el origen de las Islas Afortunadas en este vídeo."
          ],
          [
           "Descubre el Parque Romano en Las Palmas de Gran Canaria"
          ],
          [
           "Descubre el origen de Pozo Izquierdo en Gran Canaria"
          ],
          [
           "La verdad sobre el término Tamarán en Canarias 🌴🔍"
          ],
          [
           "¡Descubre la tradición marinera de Arinaga este viernes! 🎣🌊"
          ],
          [
           "Descubre el fascinante origen del barrio Las Rehoyas de Gran Canaria"
          ],
          [
           "La influencia británica en el Puerto de la Luz"
          ],
          [
           "El primer asentamiento militar en Lanzarote: historia desconocida."
          ],
          [
           "Descubre la historia de Escaleritas en Las Palmas de Gran Canaria"
          ],
          [
           "Descubre la historia de Ingenio y Agüimes en Gran Canaria"
          ],
          [
           "Descubre el origen de El Sebadal en Gran Canaria."
          ],
          [
           "Descubre el curioso gentilicio de los habitantes de Agüimes"
          ],
          [
           "Los cochineros de Ingenio: una tradición que perdura en la historia"
          ],
          [
           "Descubre la historia de la Caldera de Bandama en TV."
          ],
          [
           "Descubre el origen de Tamaraceite en las Islas Canarias"
          ],
          [
           "Descubre la historia del cambio de nombre de Las Palmas"
          ],
          [
           "Descubre la historia de Agüimes, un tesoro en Gran Canaria"
          ],
          [
           "Descubre el fascinante contraste climático de Gran Canaria. ¡Impresionante!"
          ],
          [
           "Descubre la historia de El Lloret en Las Canteras"
          ],
          [
           "Descubre la historia detrás de la iglesia de San Agustín"
          ],
          [
           "Descubre la historia de la Virgen del Pino en Teror"
          ],
          [
           "Jennifer López filma en Gran Canaria con Ben Affleck"
          ],
          [
           "Descubre la historia del antiguo estadio de Las Palmas"
          ],
          [
           "Descubre la fascinante historia de Las Palmas de Gran Canaria"
          ],
          [
           "La curiosa historia de Telde, primera capital de Gran Canaria"
          ],
          [
           "Descubre el fascinante léxico canario y su historia cultural"
          ],
          [
           "La fascinante historia de los holandeses en Gran Canaria"
          ]
         ],
         "hovertemplate": "Categoria=Toponimia de Lugares<br>Likes=%{x}<br>Comentarios=%{y}<br>Visualizaciones=%{marker.size}<br>Titulo=%{customdata[0]}<extra></extra>",
         "legendgroup": "Toponimia de Lugares",
         "marker": {
          "color": "#636efa",
          "size": [
           8511,
           4386,
           10921,
           6108,
           5586,
           11077,
           3578,
           4661,
           7484,
           7405,
           8722,
           15002,
           11465,
           3591,
           32838,
           11319,
           29854,
           10244,
           15950,
           10261,
           255191,
           6145,
           6666,
           19132,
           82054,
           80004,
           7153,
           4756,
           19502,
           3161,
           3325,
           3344,
           8989
          ],
          "sizemode": "area",
          "sizeref": 842.5025,
          "symbol": "circle"
         },
         "mode": "markers",
         "name": "Toponimia de Lugares",
         "orientation": "v",
         "showlegend": true,
         "type": "scatter",
         "x": [
          1185,
          488,
          916,
          955,
          636,
          1716,
          739,
          716,
          1099,
          1006,
          1091,
          1805,
          1625,
          517,
          3117,
          1360,
          2042,
          1148,
          1593,
          977,
          14659,
          684,
          821,
          1614,
          5259,
          3973,
          867,
          450,
          1597,
          413,
          352,
          386,
          650
         ],
         "xaxis": "x",
         "y": [
          32,
          16,
          21,
          39,
          10,
          56,
          10,
          27,
          38,
          38,
          28,
          70,
          83,
          17,
          85,
          37,
          39,
          18,
          32,
          23,
          361,
          70,
          22,
          22,
          99,
          118,
          30,
          13,
          35,
          19,
          7,
          11,
          27
         ],
         "yaxis": "y"
        },
        {
         "customdata": [
          [
           "El día que rechazaron a los Beatles en Tenerife"
          ],
          [
           "El misterio de Catalina Lercaro en Casa Lercaro ¡Descúbrelo!"
          ],
          [
           "Descubre la historia de la nevería en Las Palmas"
          ],
          [
           "\"La fiesta del charco: tradición ancestral en Gran Canaria\""
          ],
          [
           "El vino canario: una historia de prestigio internacional 🍷🌍"
          ],
          [
           "Descubre la historia de los camellos en Gran Canaria"
          ],
          [
           "Los misteriosos submarinos de la Segunda Guerra Mundial en Canarias"
          ],
          [
           "El misterioso robo en Gran Canaria que conmocionó a todos"
          ],
          [
           "Descubre la historia de Las Palmas y sus temibles corsarios."
          ],
          [
           "El misterioso Drago Canario: símbolo de historia y naturaleza"
          ],
          [
           "El curioso y peculiar zoológico urbano de Las Palmas"
          ],
          [
           "El día que una leona se escapó en Las Palmas"
          ]
         ],
         "hovertemplate": "Categoria=Curiosidades Históricas<br>Likes=%{x}<br>Comentarios=%{y}<br>Visualizaciones=%{marker.size}<br>Titulo=%{customdata[0]}<extra></extra>",
         "legendgroup": "Curiosidades Históricas",
         "marker": {
          "color": "#EF553B",
          "size": [
           5530,
           2892,
           5235,
           9916,
           6070,
           12686,
           3972,
           5932,
           5439,
           6358,
           5159,
           25719
          ],
          "sizemode": "area",
          "sizeref": 842.5025,
          "symbol": "circle"
         },
         "mode": "markers",
         "name": "Curiosidades Históricas",
         "orientation": "v",
         "showlegend": true,
         "type": "scatter",
         "x": [
          561,
          467,
          1112,
          1250,
          950,
          1539,
          478,
          664,
          576,
          523,
          426,
          1563
         ],
         "xaxis": "x",
         "y": [
          17,
          48,
          58,
          28,
          27,
          28,
          36,
          32,
          29,
          9,
          30,
          54
         ],
         "yaxis": "y"
        },
        {
         "customdata": [
          [
           "Descubre la historia de la casona Santo Domingo en Güímar"
          ],
          [
           "El legado de Agustín Millares Torres en las Islas Canarias"
          ],
          [
           "Descubre la visión de Olivia Stone sobre Tenerife y sus satélites"
          ],
          [
           "La decapitación pública que marcó la historia de Vegueta"
          ],
          [
           "Recuerda a Manuel Perdomo Cerpa, figura ilustre de Firgas."
          ],
          [
           "\"La fascinante vida de Tomás Morales, poeta modernista canario\""
          ],
          [
           "El genio de la escultura en Canarias: Luján Pérez"
          ],
          [
           "La increíble historia de Ángel Guerra en Canarias"
          ],
          [
           "La vida polifacética de Néstor Álamo en Gran Canaria"
          ],
          [
           "El sorprendente vecino de Tres Palmas que presidió las Cortes"
          ],
          [
           "Descubre el modernismo canario con Ignacia de Lara en Las Palmas"
          ],
          [
           "El legado de Gregorio Chil: el hombre detrás del paseo"
          ],
          [
           "Héroe canario: La historia de Wenceslao Perdomo Benítez."
          ],
          [
           "\"Poema dedicado a Francisco Tarajano, poeta canario y docente\""
          ],
          [
           "Descubre el mirador del Atlante en Las Canteras, Gran Canaria."
          ],
          [
           "El misterio de Cristóbal Colón en Las Palmas de Gran Canaria"
          ],
          [
           "\"Doramas: El valiente guerrero que marcó la historia canaria\""
          ],
          [
           "Descubre la historia detrás de la calle León y Castillo"
          ],
          [
           "La historia secreta de una familia judía en Las Palmas"
          ],
          [
           "La Virgen del Pino: Patrona de Gran Canaria y sus misterios"
          ],
          [
           "La historia de Simón Bolívar y su esposa en Teror"
          ],
          [
           "El legado de Fernando Guanarteme: ¿traidor o estratega?"
          ],
          [
           "La visita de Agatha Christie a Las Palmas en 1927"
          ]
         ],
         "hovertemplate": "Categoria=Biografías de Personajes Históricos<br>Likes=%{x}<br>Comentarios=%{y}<br>Visualizaciones=%{marker.size}<br>Titulo=%{customdata[0]}<extra></extra>",
         "legendgroup": "Biografías de Personajes Históricos",
         "marker": {
          "color": "#00cc96",
          "size": [
           2277,
           2719,
           5952,
           4398,
           3096,
           6758,
           7825,
           3934,
           9286,
           7141,
           6192,
           31752,
           5578,
           4332,
           12894,
           7923,
           6416,
           4118,
           35850,
           3600,
           2658,
           3191,
           2962
          ],
          "sizemode": "area",
          "sizeref": 842.5025,
          "symbol": "circle"
         },
         "mode": "markers",
         "name": "Biografías de Personajes Históricos",
         "orientation": "v",
         "showlegend": true,
         "type": "scatter",
         "x": [
          442,
          529,
          685,
          750,
          499,
          939,
          1029,
          642,
          1095,
          828,
          875,
          3335,
          669,
          605,
          1452,
          722,
          1127,
          477,
          2661,
          370,
          312,
          374,
          365
         ],
         "xaxis": "x",
         "y": [
          11,
          15,
          35,
          36,
          12,
          33,
          23,
          8,
          20,
          27,
          61,
          65,
          18,
          22,
          24,
          22,
          56,
          15,
          122,
          4,
          26,
          13,
          9
         ],
         "yaxis": "y"
        },
        {
         "customdata": [
          [
           "Descubre la historia de la ermita de San Antonio Abad"
          ],
          [
           "La casa sobre la peña de la gaviota: historia perdida"
          ],
          [
           "Descubre el colorido Mercado de Vegueta en Las Palmas"
          ],
          [
           "Descubre la Casa Móxica-Matos en Vegueta, Gran Canaria"
          ],
          [
           "La impactante historia de la acequia real en Gran Canaria"
          ],
          [
           "Descubre la historia de la iglesia de Santiago en Gáldar"
          ],
          [
           "Descubre la historia de la Casa de la Cultura de Firgas"
          ],
          [
           "Descubre la historia de la Casa de Colón en Vegueta"
          ],
          [
           "Descubre la historia de la primera residencia del alcalde de Guía"
          ],
          [
           "El renacimiento del Teatro Pérez Galdós: una historia trágica"
          ],
          [
           "Descubre la historia de la Fuente en Plaza Espíritu Santo"
          ],
          [
           "Descubre la Casa Westerling en pleno corazón de Vegueta."
          ],
          [
           "Descubre la historia detrás de la Heredad de Aguas de Arucas"
          ],
          [
           "Descubre el modernismo en Las Palmas de Gran Canaria"
          ],
          [
           "Descubre el histórico acueducto de San Francisco en Telde"
          ],
          [
           "Descubre las fascinantes farolas fernandinas de Vegueta y Triana."
          ],
          [
           "Descubre la historia de la Casa del Deán en Vegueta."
          ],
          [
           "Descubre el Teatro Guiniguada: un tesoro cultural en Vegueta."
          ],
          [
           "Descubre la belleza de los balcones canarios históricos 🏰🌺"
          ],
          [
           "Descubre la historia de la Catedral de Santa Ana"
          ],
          [
           "Descubre la historia de la Casa Santa Gadea Masel"
          ],
          [
           "Descubre la historia detrás de la \"Catedral\" de Arucas."
          ]
         ],
         "hovertemplate": "Categoria=Arquitectura<br>Likes=%{x}<br>Comentarios=%{y}<br>Visualizaciones=%{marker.size}<br>Titulo=%{customdata[0]}<extra></extra>",
         "legendgroup": "Arquitectura",
         "marker": {
          "color": "#ab63fa",
          "size": [
           3610,
           9497,
           5119,
           3892,
           7620,
           5318,
           9149,
           7230,
           6559,
           7152,
           14623,
           10021,
           7782,
           6590,
           15436,
           5104,
           5190,
           3972,
           9471,
           9727,
           6026,
           3438
          ],
          "sizemode": "area",
          "sizeref": 842.5025,
          "symbol": "circle"
         },
         "mode": "markers",
         "name": "Arquitectura",
         "orientation": "v",
         "showlegend": true,
         "type": "scatter",
         "x": [
          767,
          1514,
          819,
          759,
          1217,
          1000,
          1380,
          1110,
          903,
          1249,
          1439,
          1148,
          896,
          654,
          1660,
          643,
          577,
          616,
          1025,
          814,
          649,
          402
         ],
         "xaxis": "x",
         "y": [
          37,
          77,
          22,
          31,
          16,
          51,
          23,
          32,
          30,
          31,
          24,
          47,
          25,
          14,
          42,
          23,
          25,
          12,
          17,
          9,
          18,
          8
         ],
         "yaxis": "y"
        },
        {
         "customdata": [
          [
           "La épica batalla olvidada entre Canarias e Inglaterra en 1797"
          ],
          [
           "Tragedia en el sur de Tenerife: el desplome del convento"
          ],
          [
           "Explorando la historia militar de La Minilla en Gran Canaria"
          ],
          [
           "La invasión de Argel en Lanzarote: un capítulo oscuro."
          ],
          [
           "\"200 años de la última erupción en Lanzarote: historia impactante\""
          ],
          [
           "Tres años de la tragedia volcánica en La Palma"
          ],
          [
           "\"La tradición de los artilleros en las fiestas del Cristo\""
          ],
          [
           "¡Romería hacia Teror para celebrar las fiestas del pino!"
          ],
          [
           "El granero de Canarias: Lanzarote y Fuerteventura en el siglo XVIII"
          ],
          [
           "\"La historia detrás de Arrecife, la capital de Lanzarote\""
          ],
          [
           "El misterio detrás de la explosión en Las Canteras."
          ],
          [
           "\"Descubre el origen del fútbol en Las Palmas\""
          ],
          [
           "El motín de Agüimes: la rebelión que conquistó la tierra"
          ],
          [
           "Descubre la historia de las fortificaciones de Las Palmas"
          ],
          [
           "La historia del corsario que saqueó Lanzarote en 1569"
          ],
          [
           "Los coloridos carnavales de las islas Canarias: una tradición prohibida"
          ],
          [
           "El misterioso origen de las dunas de Maspalomas"
          ],
          [
           "Celebrando el 546 aniversario de Las Palmas de Gran Canaria"
          ],
          [
           "Descubre la verdadera historia de la expedición a Canarias"
          ],
          [
           "El papel olvidado de los artilleros canarios en Marruecos"
          ],
          [
           "\"El tren que cruzó la avenida marítima hace 50 años\""
          ],
          [
           "Descubre la historia desconocida del archipiélago cercano a Canarias"
          ],
          [
           "La invasión holandesa a Las Palmas: historia revelada"
          ],
          [
           "El origen geológico de las Islas Canarias al descubierto"
          ],
          [
           "Las impactantes ejecuciones en Las Palmas de Gran Canaria"
          ],
          [
           "Descubre la historia detrás de la Plaza de Santa Ana"
          ],
          [
           "El devastador brote de cólera en Gran Canaria, 1851"
          ],
          [
           "La construcción del Puerto de la Luz impulsó la economía"
          ],
          [
           "El naufragio del Sud America: tragedia en Las Palmas"
          ],
          [
           "Descubre la historia desconocida de las corridas de toros en Las Palmas"
          ],
          [
           "La invasión holandesa que marcó la historia de Las Palmas"
          ]
         ],
         "hovertemplate": "Categoria=Acontecimientos Históricos<br>Likes=%{x}<br>Comentarios=%{y}<br>Visualizaciones=%{marker.size}<br>Titulo=%{customdata[0]}<extra></extra>",
         "legendgroup": "Acontecimientos Históricos",
         "marker": {
          "color": "#FFA15A",
          "size": [
           4952,
           3052,
           6157,
           4664,
           7598,
           5241,
           5093,
           4926,
           5560,
           5566,
           45365,
           11580,
           5364,
           6294,
           5350,
           8957,
           38606,
           10743,
           7351,
           4852,
           69165,
           42154,
           5697,
           16928,
           5688,
           4216,
           6092,
           337001,
           6151,
           3372,
           12011
          ],
          "sizemode": "area",
          "sizeref": 842.5025,
          "symbol": "circle"
         },
         "mode": "markers",
         "name": "Acontecimientos Históricos",
         "orientation": "v",
         "showlegend": true,
         "type": "scatter",
         "x": [
          734,
          469,
          844,
          708,
          917,
          696,
          640,
          1017,
          796,
          789,
          3601,
          1387,
          829,
          958,
          708,
          1288,
          4384,
          1398,
          807,
          602,
          4497,
          2367,
          779,
          1611,
          752,
          365,
          790,
          14514,
          671,
          304,
          471
         ],
         "xaxis": "x",
         "y": [
          43,
          16,
          41,
          27,
          11,
          23,
          23,
          23,
          8,
          17,
          127,
          50,
          27,
          49,
          18,
          25,
          110,
          62,
          26,
          11,
          179,
          72,
          20,
          20,
          31,
          3,
          19,
          333,
          33,
          19,
          14
         ],
         "yaxis": "y"
        }
       ],
       "layout": {
        "autosize": true,
        "legend": {
         "itemsizing": "constant",
         "title": {
          "text": "Categoria"
         },
         "tracegroupgap": 0
        },
        "template": {
         "data": {
          "bar": [
           {
            "error_x": {
             "color": "#2a3f5f"
            },
            "error_y": {
             "color": "#2a3f5f"
            },
            "marker": {
             "line": {
              "color": "#E5ECF6",
              "width": 0.5
             },
             "pattern": {
              "fillmode": "overlay",
              "size": 10,
              "solidity": 0.2
             }
            },
            "type": "bar"
           }
          ],
          "barpolar": [
           {
            "marker": {
             "line": {
              "color": "#E5ECF6",
              "width": 0.5
             },
             "pattern": {
              "fillmode": "overlay",
              "size": 10,
              "solidity": 0.2
             }
            },
            "type": "barpolar"
           }
          ],
          "carpet": [
           {
            "aaxis": {
             "endlinecolor": "#2a3f5f",
             "gridcolor": "white",
             "linecolor": "white",
             "minorgridcolor": "white",
             "startlinecolor": "#2a3f5f"
            },
            "baxis": {
             "endlinecolor": "#2a3f5f",
             "gridcolor": "white",
             "linecolor": "white",
             "minorgridcolor": "white",
             "startlinecolor": "#2a3f5f"
            },
            "type": "carpet"
           }
          ],
          "choropleth": [
           {
            "colorbar": {
             "outlinewidth": 0,
             "ticks": ""
            },
            "type": "choropleth"
           }
          ],
          "contour": [
           {
            "colorbar": {
             "outlinewidth": 0,
             "ticks": ""
            },
            "colorscale": [
             [
              0,
              "#0d0887"
             ],
             [
              0.1111111111111111,
              "#46039f"
             ],
             [
              0.2222222222222222,
              "#7201a8"
             ],
             [
              0.3333333333333333,
              "#9c179e"
             ],
             [
              0.4444444444444444,
              "#bd3786"
             ],
             [
              0.5555555555555556,
              "#d8576b"
             ],
             [
              0.6666666666666666,
              "#ed7953"
             ],
             [
              0.7777777777777778,
              "#fb9f3a"
             ],
             [
              0.8888888888888888,
              "#fdca26"
             ],
             [
              1,
              "#f0f921"
             ]
            ],
            "type": "contour"
           }
          ],
          "contourcarpet": [
           {
            "colorbar": {
             "outlinewidth": 0,
             "ticks": ""
            },
            "type": "contourcarpet"
           }
          ],
          "heatmap": [
           {
            "colorbar": {
             "outlinewidth": 0,
             "ticks": ""
            },
            "colorscale": [
             [
              0,
              "#0d0887"
             ],
             [
              0.1111111111111111,
              "#46039f"
             ],
             [
              0.2222222222222222,
              "#7201a8"
             ],
             [
              0.3333333333333333,
              "#9c179e"
             ],
             [
              0.4444444444444444,
              "#bd3786"
             ],
             [
              0.5555555555555556,
              "#d8576b"
             ],
             [
              0.6666666666666666,
              "#ed7953"
             ],
             [
              0.7777777777777778,
              "#fb9f3a"
             ],
             [
              0.8888888888888888,
              "#fdca26"
             ],
             [
              1,
              "#f0f921"
             ]
            ],
            "type": "heatmap"
           }
          ],
          "heatmapgl": [
           {
            "colorbar": {
             "outlinewidth": 0,
             "ticks": ""
            },
            "colorscale": [
             [
              0,
              "#0d0887"
             ],
             [
              0.1111111111111111,
              "#46039f"
             ],
             [
              0.2222222222222222,
              "#7201a8"
             ],
             [
              0.3333333333333333,
              "#9c179e"
             ],
             [
              0.4444444444444444,
              "#bd3786"
             ],
             [
              0.5555555555555556,
              "#d8576b"
             ],
             [
              0.6666666666666666,
              "#ed7953"
             ],
             [
              0.7777777777777778,
              "#fb9f3a"
             ],
             [
              0.8888888888888888,
              "#fdca26"
             ],
             [
              1,
              "#f0f921"
             ]
            ],
            "type": "heatmapgl"
           }
          ],
          "histogram": [
           {
            "marker": {
             "pattern": {
              "fillmode": "overlay",
              "size": 10,
              "solidity": 0.2
             }
            },
            "type": "histogram"
           }
          ],
          "histogram2d": [
           {
            "colorbar": {
             "outlinewidth": 0,
             "ticks": ""
            },
            "colorscale": [
             [
              0,
              "#0d0887"
             ],
             [
              0.1111111111111111,
              "#46039f"
             ],
             [
              0.2222222222222222,
              "#7201a8"
             ],
             [
              0.3333333333333333,
              "#9c179e"
             ],
             [
              0.4444444444444444,
              "#bd3786"
             ],
             [
              0.5555555555555556,
              "#d8576b"
             ],
             [
              0.6666666666666666,
              "#ed7953"
             ],
             [
              0.7777777777777778,
              "#fb9f3a"
             ],
             [
              0.8888888888888888,
              "#fdca26"
             ],
             [
              1,
              "#f0f921"
             ]
            ],
            "type": "histogram2d"
           }
          ],
          "histogram2dcontour": [
           {
            "colorbar": {
             "outlinewidth": 0,
             "ticks": ""
            },
            "colorscale": [
             [
              0,
              "#0d0887"
             ],
             [
              0.1111111111111111,
              "#46039f"
             ],
             [
              0.2222222222222222,
              "#7201a8"
             ],
             [
              0.3333333333333333,
              "#9c179e"
             ],
             [
              0.4444444444444444,
              "#bd3786"
             ],
             [
              0.5555555555555556,
              "#d8576b"
             ],
             [
              0.6666666666666666,
              "#ed7953"
             ],
             [
              0.7777777777777778,
              "#fb9f3a"
             ],
             [
              0.8888888888888888,
              "#fdca26"
             ],
             [
              1,
              "#f0f921"
             ]
            ],
            "type": "histogram2dcontour"
           }
          ],
          "mesh3d": [
           {
            "colorbar": {
             "outlinewidth": 0,
             "ticks": ""
            },
            "type": "mesh3d"
           }
          ],
          "parcoords": [
           {
            "line": {
             "colorbar": {
              "outlinewidth": 0,
              "ticks": ""
             }
            },
            "type": "parcoords"
           }
          ],
          "pie": [
           {
            "automargin": true,
            "type": "pie"
           }
          ],
          "scatter": [
           {
            "fillpattern": {
             "fillmode": "overlay",
             "size": 10,
             "solidity": 0.2
            },
            "type": "scatter"
           }
          ],
          "scatter3d": [
           {
            "line": {
             "colorbar": {
              "outlinewidth": 0,
              "ticks": ""
             }
            },
            "marker": {
             "colorbar": {
              "outlinewidth": 0,
              "ticks": ""
             }
            },
            "type": "scatter3d"
           }
          ],
          "scattercarpet": [
           {
            "marker": {
             "colorbar": {
              "outlinewidth": 0,
              "ticks": ""
             }
            },
            "type": "scattercarpet"
           }
          ],
          "scattergeo": [
           {
            "marker": {
             "colorbar": {
              "outlinewidth": 0,
              "ticks": ""
             }
            },
            "type": "scattergeo"
           }
          ],
          "scattergl": [
           {
            "marker": {
             "colorbar": {
              "outlinewidth": 0,
              "ticks": ""
             }
            },
            "type": "scattergl"
           }
          ],
          "scattermapbox": [
           {
            "marker": {
             "colorbar": {
              "outlinewidth": 0,
              "ticks": ""
             }
            },
            "type": "scattermapbox"
           }
          ],
          "scatterpolar": [
           {
            "marker": {
             "colorbar": {
              "outlinewidth": 0,
              "ticks": ""
             }
            },
            "type": "scatterpolar"
           }
          ],
          "scatterpolargl": [
           {
            "marker": {
             "colorbar": {
              "outlinewidth": 0,
              "ticks": ""
             }
            },
            "type": "scatterpolargl"
           }
          ],
          "scatterternary": [
           {
            "marker": {
             "colorbar": {
              "outlinewidth": 0,
              "ticks": ""
             }
            },
            "type": "scatterternary"
           }
          ],
          "surface": [
           {
            "colorbar": {
             "outlinewidth": 0,
             "ticks": ""
            },
            "colorscale": [
             [
              0,
              "#0d0887"
             ],
             [
              0.1111111111111111,
              "#46039f"
             ],
             [
              0.2222222222222222,
              "#7201a8"
             ],
             [
              0.3333333333333333,
              "#9c179e"
             ],
             [
              0.4444444444444444,
              "#bd3786"
             ],
             [
              0.5555555555555556,
              "#d8576b"
             ],
             [
              0.6666666666666666,
              "#ed7953"
             ],
             [
              0.7777777777777778,
              "#fb9f3a"
             ],
             [
              0.8888888888888888,
              "#fdca26"
             ],
             [
              1,
              "#f0f921"
             ]
            ],
            "type": "surface"
           }
          ],
          "table": [
           {
            "cells": {
             "fill": {
              "color": "#EBF0F8"
             },
             "line": {
              "color": "white"
             }
            },
            "header": {
             "fill": {
              "color": "#C8D4E3"
             },
             "line": {
              "color": "white"
             }
            },
            "type": "table"
           }
          ]
         },
         "layout": {
          "annotationdefaults": {
           "arrowcolor": "#2a3f5f",
           "arrowhead": 0,
           "arrowwidth": 1
          },
          "autotypenumbers": "strict",
          "coloraxis": {
           "colorbar": {
            "outlinewidth": 0,
            "ticks": ""
           }
          },
          "colorscale": {
           "diverging": [
            [
             0,
             "#8e0152"
            ],
            [
             0.1,
             "#c51b7d"
            ],
            [
             0.2,
             "#de77ae"
            ],
            [
             0.3,
             "#f1b6da"
            ],
            [
             0.4,
             "#fde0ef"
            ],
            [
             0.5,
             "#f7f7f7"
            ],
            [
             0.6,
             "#e6f5d0"
            ],
            [
             0.7,
             "#b8e186"
            ],
            [
             0.8,
             "#7fbc41"
            ],
            [
             0.9,
             "#4d9221"
            ],
            [
             1,
             "#276419"
            ]
           ],
           "sequential": [
            [
             0,
             "#0d0887"
            ],
            [
             0.1111111111111111,
             "#46039f"
            ],
            [
             0.2222222222222222,
             "#7201a8"
            ],
            [
             0.3333333333333333,
             "#9c179e"
            ],
            [
             0.4444444444444444,
             "#bd3786"
            ],
            [
             0.5555555555555556,
             "#d8576b"
            ],
            [
             0.6666666666666666,
             "#ed7953"
            ],
            [
             0.7777777777777778,
             "#fb9f3a"
            ],
            [
             0.8888888888888888,
             "#fdca26"
            ],
            [
             1,
             "#f0f921"
            ]
           ],
           "sequentialminus": [
            [
             0,
             "#0d0887"
            ],
            [
             0.1111111111111111,
             "#46039f"
            ],
            [
             0.2222222222222222,
             "#7201a8"
            ],
            [
             0.3333333333333333,
             "#9c179e"
            ],
            [
             0.4444444444444444,
             "#bd3786"
            ],
            [
             0.5555555555555556,
             "#d8576b"
            ],
            [
             0.6666666666666666,
             "#ed7953"
            ],
            [
             0.7777777777777778,
             "#fb9f3a"
            ],
            [
             0.8888888888888888,
             "#fdca26"
            ],
            [
             1,
             "#f0f921"
            ]
           ]
          },
          "colorway": [
           "#636efa",
           "#EF553B",
           "#00cc96",
           "#ab63fa",
           "#FFA15A",
           "#19d3f3",
           "#FF6692",
           "#B6E880",
           "#FF97FF",
           "#FECB52"
          ],
          "font": {
           "color": "#2a3f5f"
          },
          "geo": {
           "bgcolor": "white",
           "lakecolor": "white",
           "landcolor": "#E5ECF6",
           "showlakes": true,
           "showland": true,
           "subunitcolor": "white"
          },
          "hoverlabel": {
           "align": "left"
          },
          "hovermode": "closest",
          "mapbox": {
           "style": "light"
          },
          "paper_bgcolor": "white",
          "plot_bgcolor": "#E5ECF6",
          "polar": {
           "angularaxis": {
            "gridcolor": "white",
            "linecolor": "white",
            "ticks": ""
           },
           "bgcolor": "#E5ECF6",
           "radialaxis": {
            "gridcolor": "white",
            "linecolor": "white",
            "ticks": ""
           }
          },
          "scene": {
           "xaxis": {
            "backgroundcolor": "#E5ECF6",
            "gridcolor": "white",
            "gridwidth": 2,
            "linecolor": "white",
            "showbackground": true,
            "ticks": "",
            "zerolinecolor": "white"
           },
           "yaxis": {
            "backgroundcolor": "#E5ECF6",
            "gridcolor": "white",
            "gridwidth": 2,
            "linecolor": "white",
            "showbackground": true,
            "ticks": "",
            "zerolinecolor": "white"
           },
           "zaxis": {
            "backgroundcolor": "#E5ECF6",
            "gridcolor": "white",
            "gridwidth": 2,
            "linecolor": "white",
            "showbackground": true,
            "ticks": "",
            "zerolinecolor": "white"
           }
          },
          "shapedefaults": {
           "line": {
            "color": "#2a3f5f"
           }
          },
          "ternary": {
           "aaxis": {
            "gridcolor": "white",
            "linecolor": "white",
            "ticks": ""
           },
           "baxis": {
            "gridcolor": "white",
            "linecolor": "white",
            "ticks": ""
           },
           "bgcolor": "#E5ECF6",
           "caxis": {
            "gridcolor": "white",
            "linecolor": "white",
            "ticks": ""
           }
          },
          "title": {
           "x": 0.05
          },
          "xaxis": {
           "automargin": true,
           "gridcolor": "white",
           "linecolor": "white",
           "ticks": "",
           "title": {
            "standoff": 15
           },
           "zerolinecolor": "white",
           "zerolinewidth": 2
          },
          "yaxis": {
           "automargin": true,
           "gridcolor": "white",
           "linecolor": "white",
           "ticks": "",
           "title": {
            "standoff": 15
           },
           "zerolinecolor": "white",
           "zerolinewidth": 2
          }
         }
        },
        "title": {
         "text": "Relación entre Likes y Comentarios"
        },
        "xaxis": {
         "anchor": "y",
         "autorange": true,
         "domain": [
          0,
          1
         ],
         "range": [
          -580.6589975725926,
          15782.206671815215
         ],
         "title": {
          "text": "Likes"
         },
         "type": "linear"
        },
        "yaxis": {
         "anchor": "x",
         "autorange": true,
         "domain": [
          0,
          1
         ],
         "range": [
          -26.578426217071723,
          417.09796703900406
         ],
         "title": {
          "text": "Comentarios"
         },
         "type": "linear"
        }
       }
      },
      "image/png": "[encoded data removed]",
      "text/html": [
       "<div>                            <div id=\"0dea3947-9659-4055-8a4d-28fc16d9fb94\" class=\"plotly-graph-div\" style=\"height:525px; width:100%;\"></div>            <script type=\"text/javascript\">                require([\"plotly\"], function(Plotly) {                    window.PLOTLYENV=window.PLOTLYENV || {};                                    if (document.getElementById(\"0dea3947-9659-4055-8a4d-28fc16d9fb94\")) {                    Plotly.newPlot(                        \"0dea3947-9659-4055-8a4d-28fc16d9fb94\",                        [{\"customdata\":[[\"Descubre el origen de Llanos de la Pez en Gran Canaria\"],[\"La divisi\\u00f3n hist\\u00f3rica de Los Realejos: Alto vs Bajo\"],[\"La incre\\u00edble parada de Magallanes y Elcano en Tenerife.\"],[\"Descubre la m\\u00e1gica Fuente Luminosa de Las Palmas de Gran Canaria\"],[\"Descubre la encantadora iglesia de Nuestra Se\\u00f1ora de la Candelaria\"],[\"Descubre el origen de La Cicer en Las Palmas\"],[\"Descubre el origen de las Islas Afortunadas en este v\\u00eddeo.\"],[\"Descubre el Parque Romano en Las Palmas de Gran Canaria\"],[\"Descubre el origen de Pozo Izquierdo en Gran Canaria\"],[\"La verdad sobre el t\\u00e9rmino Tamar\\u00e1n en Canarias \\ud83c\\udf34\\ud83d\\udd0d\"],[\"\\u00a1Descubre la tradici\\u00f3n marinera de Arinaga este viernes! \\ud83c\\udfa3\\ud83c\\udf0a\"],[\"Descubre el fascinante origen del barrio Las Rehoyas de Gran Canaria\"],[\"La influencia brit\\u00e1nica en el Puerto de la Luz\"],[\"El primer asentamiento militar en Lanzarote: historia desconocida.\"],[\"Descubre la historia de Escaleritas en Las Palmas de Gran Canaria\"],[\"Descubre la historia de Ingenio y Ag\\u00fcimes en Gran Canaria\"],[\"Descubre el origen de El Sebadal en Gran Canaria.\"],[\"Descubre el curioso gentilicio de los habitantes de Ag\\u00fcimes\"],[\"Los cochineros de Ingenio: una tradici\\u00f3n que perdura en la historia\"],[\"Descubre la historia de la Caldera de Bandama en TV.\"],[\"Descubre el origen de Tamaraceite en las Islas Canarias\"],[\"Descubre la historia del cambio de nombre de Las Palmas\"],[\"Descubre la historia de Ag\\u00fcimes, un tesoro en Gran Canaria\"],[\"Descubre el fascinante contraste clim\\u00e1tico de Gran Canaria. \\u00a1Impresionante!\"],[\"Descubre la historia de El Lloret en Las Canteras\"],[\"Descubre la historia detr\\u00e1s de la iglesia de San Agust\\u00edn\"],[\"Descubre la historia de la Virgen del Pino en Teror\"],[\"Jennifer L\\u00f3pez filma en Gran Canaria con Ben Affleck\"],[\"Descubre la historia del antiguo estadio de Las Palmas\"],[\"Descubre la fascinante historia de Las Palmas de Gran Canaria\"],[\"La curiosa historia de Telde, primera capital de Gran Canaria\"],[\"Descubre el fascinante l\\u00e9xico canario y su historia cultural\"],[\"La fascinante historia de los holandeses en Gran Canaria\"]],\"hovertemplate\":\"Categoria=Toponimia de Lugares\\u003cbr\\u003eLikes=%{x}\\u003cbr\\u003eComentarios=%{y}\\u003cbr\\u003eVisualizaciones=%{marker.size}\\u003cbr\\u003eTitulo=%{customdata[0]}\\u003cextra\\u003e\\u003c\\u002fextra\\u003e\",\"legendgroup\":\"Toponimia de Lugares\",\"marker\":{\"color\":\"#636efa\",\"size\":[8511,4386,10921,6108,5586,11077,3578,4661,7484,7405,8722,15002,11465,3591,32838,11319,29854,10244,15950,10261,255191,6145,6666,19132,82054,80004,7153,4756,19502,3161,3325,3344,8989],\"sizemode\":\"area\",\"sizeref\":842.5025,\"symbol\":\"circle\"},\"mode\":\"markers\",\"name\":\"Toponimia de Lugares\",\"orientation\":\"v\",\"showlegend\":true,\"x\":[1185,488,916,955,636,1716,739,716,1099,1006,1091,1805,1625,517,3117,1360,2042,1148,1593,977,14659,684,821,1614,5259,3973,867,450,1597,413,352,386,650],\"xaxis\":\"x\",\"y\":[32,16,21,39,10,56,10,27,38,38,28,70,83,17,85,37,39,18,32,23,361,70,22,22,99,118,30,13,35,19,7,11,27],\"yaxis\":\"y\",\"type\":\"scatter\"},{\"customdata\":[[\"El d\\u00eda que rechazaron a los Beatles en Tenerife\"],[\"El misterio de Catalina Lercaro en Casa Lercaro \\u00a1Desc\\u00fabrelo!\"],[\"Descubre la historia de la never\\u00eda en Las Palmas\"],[\"\\\"La fiesta del charco: tradici\\u00f3n ancestral en Gran Canaria\\\"\"],[\"El vino canario: una historia de prestigio internacional \\ud83c\\udf77\\ud83c\\udf0d\"],[\"Descubre la historia de los camellos en Gran Canaria\"],[\"Los misteriosos submarinos de la Segunda Guerra Mundial en Canarias\"],[\"El misterioso robo en Gran Canaria que conmocion\\u00f3 a todos\"],[\"Descubre la historia de Las Palmas y sus temibles corsarios.\"],[\"El misterioso Drago Canario: s\\u00edmbolo de historia y naturaleza\"],[\"El curioso y peculiar zool\\u00f3gico urbano de Las Palmas\"],[\"El d\\u00eda que una leona se escap\\u00f3 en Las Palmas\"]],\"hovertemplate\":\"Categoria=Curiosidades Hist\\u00f3ricas\\u003cbr\\u003eLikes=%{x}\\u003cbr\\u003eComentarios=%{y}\\u003cbr\\u003eVisualizaciones=%{marker.size}\\u003cbr\\u003eTitulo=%{customdata[0]}\\u003cextra\\u003e\\u003c\\u002fextra\\u003e\",\"legendgroup\":\"Curiosidades Hist\\u00f3ricas\",\"marker\":{\"color\":\"#EF553B\",\"size\":[5530,2892,5235,9916,6070,12686,3972,5932,5439,6358,5159,25719],\"sizemode\":\"area\",\"sizeref\":842.5025,\"symbol\":\"circle\"},\"mode\":\"markers\",\"name\":\"Curiosidades Hist\\u00f3ricas\",\"orientation\":\"v\",\"showlegend\":true,\"x\":[561,467,1112,1250,950,1539,478,664,576,523,426,1563],\"xaxis\":\"x\",\"y\":[17,48,58,28,27,28,36,32,29,9,30,54],\"yaxis\":\"y\",\"type\":\"scatter\"},{\"customdata\":[[\"Descubre la historia de la casona Santo Domingo en G\\u00fc\\u00edmar\"],[\"El legado de Agust\\u00edn Millares Torres en las Islas Canarias\"],[\"Descubre la visi\\u00f3n de Olivia Stone sobre Tenerife y sus sat\\u00e9lites\"],[\"La decapitaci\\u00f3n p\\u00fablica que marc\\u00f3 la historia de Vegueta\"],[\"Recuerda a Manuel Perdomo Cerpa, figura ilustre de Firgas.\"],[\"\\\"La fascinante vida de Tom\\u00e1s Morales, poeta modernista canario\\\"\"],[\"El genio de la escultura en Canarias: Luj\\u00e1n P\\u00e9rez\"],[\"La incre\\u00edble historia de \\u00c1ngel Guerra en Canarias\"],[\"La vida polifac\\u00e9tica de N\\u00e9stor \\u00c1lamo en Gran Canaria\"],[\"El sorprendente vecino de Tres Palmas que presidi\\u00f3 las Cortes\"],[\"Descubre el modernismo canario con Ignacia de Lara en Las Palmas\"],[\"El legado de Gregorio Chil: el hombre detr\\u00e1s del paseo\"],[\"H\\u00e9roe canario: La historia de Wenceslao Perdomo Ben\\u00edtez.\"],[\"\\\"Poema dedicado a Francisco Tarajano, poeta canario y docente\\\"\"],[\"Descubre el mirador del Atlante en Las Canteras, Gran Canaria.\"],[\"El misterio de Crist\\u00f3bal Col\\u00f3n en Las Palmas de Gran Canaria\"],[\"\\\"Doramas: El valiente guerrero que marc\\u00f3 la historia canaria\\\"\"],[\"Descubre la historia detr\\u00e1s de la calle Le\\u00f3n y Castillo\"],[\"La historia secreta de una familia jud\\u00eda en Las Palmas\"],[\"La Virgen del Pino: Patrona de Gran Canaria y sus misterios\"],[\"La historia de Sim\\u00f3n Bol\\u00edvar y su esposa en Teror\"],[\"El legado de Fernando Guanarteme: \\u00bftraidor o estratega?\"],[\"La visita de Agatha Christie a Las Palmas en 1927\"]],\"hovertemplate\":\"Categoria=Biograf\\u00edas de Personajes Hist\\u00f3ricos\\u003cbr\\u003eLikes=%{x}\\u003cbr\\u003eComentarios=%{y}\\u003cbr\\u003eVisualizaciones=%{marker.size}\\u003cbr\\u003eTitulo=%{customdata[0]}\\u003cextra\\u003e\\u003c\\u002fextra\\u003e\",\"legendgroup\":\"Biograf\\u00edas de Personajes Hist\\u00f3ricos\",\"marker\":{\"color\":\"#00cc96\",\"size\":[2277,2719,5952,4398,3096,6758,7825,3934,9286,7141,6192,31752,5578,4332,12894,7923,6416,4118,35850,3600,2658,3191,2962],\"sizemode\":\"area\",\"sizeref\":842.5025,\"symbol\":\"circle\"},\"mode\":\"markers\",\"name\":\"Biograf\\u00edas de Personajes Hist\\u00f3ricos\",\"orientation\":\"v\",\"showlegend\":true,\"x\":[442,529,685,750,499,939,1029,642,1095,828,875,3335,669,605,1452,722,1127,477,2661,370,312,374,365],\"xaxis\":\"x\",\"y\":[11,15,35,36,12,33,23,8,20,27,61,65,18,22,24,22,56,15,122,4,26,13,9],\"yaxis\":\"y\",\"type\":\"scatter\"},{\"customdata\":[[\"Descubre la historia de la ermita de San Antonio Abad\"],[\"La casa sobre la pe\\u00f1a de la gaviota: historia perdida\"],[\"Descubre el colorido Mercado de Vegueta en Las Palmas\"],[\"Descubre la Casa M\\u00f3xica-Matos en Vegueta, Gran Canaria\"],[\"La impactante historia de la acequia real en Gran Canaria\"],[\"Descubre la historia de la iglesia de Santiago en G\\u00e1ldar\"],[\"Descubre la historia de la Casa de la Cultura de Firgas\"],[\"Descubre la historia de la Casa de Col\\u00f3n en Vegueta\"],[\"Descubre la historia de la primera residencia del alcalde de Gu\\u00eda\"],[\"El renacimiento del Teatro P\\u00e9rez Gald\\u00f3s: una historia tr\\u00e1gica\"],[\"Descubre la historia de la Fuente en Plaza Esp\\u00edritu Santo\"],[\"Descubre la Casa Westerling en pleno coraz\\u00f3n de Vegueta.\"],[\"Descubre la historia detr\\u00e1s de la Heredad de Aguas de Arucas\"],[\"Descubre el modernismo en Las Palmas de Gran Canaria\"],[\"Descubre el hist\\u00f3rico acueducto de San Francisco en Telde\"],[\"Descubre las fascinantes farolas fernandinas de Vegueta y Triana.\"],[\"Descubre la historia de la Casa del De\\u00e1n en Vegueta.\"],[\"Descubre el Teatro Guiniguada: un tesoro cultural en Vegueta.\"],[\"Descubre la belleza de los balcones canarios hist\\u00f3ricos \\ud83c\\udff0\\ud83c\\udf3a\"],[\"Descubre la historia de la Catedral de Santa Ana\"],[\"Descubre la historia de la Casa Santa Gadea Masel\"],[\"Descubre la historia detr\\u00e1s de la \\\"Catedral\\\" de Arucas.\"]],\"hovertemplate\":\"Categoria=Arquitectura\\u003cbr\\u003eLikes=%{x}\\u003cbr\\u003eComentarios=%{y}\\u003cbr\\u003eVisualizaciones=%{marker.size}\\u003cbr\\u003eTitulo=%{customdata[0]}\\u003cextra\\u003e\\u003c\\u002fextra\\u003e\",\"legendgroup\":\"Arquitectura\",\"marker\":{\"color\":\"#ab63fa\",\"size\":[3610,9497,5119,3892,7620,5318,9149,7230,6559,7152,14623,10021,7782,6590,15436,5104,5190,3972,9471,9727,6026,3438],\"sizemode\":\"area\",\"sizeref\":842.5025,\"symbol\":\"circle\"},\"mode\":\"markers\",\"name\":\"Arquitectura\",\"orientation\":\"v\",\"showlegend\":true,\"x\":[767,1514,819,759,1217,1000,1380,1110,903,1249,1439,1148,896,654,1660,643,577,616,1025,814,649,402],\"xaxis\":\"x\",\"y\":[37,77,22,31,16,51,23,32,30,31,24,47,25,14,42,23,25,12,17,9,18,8],\"yaxis\":\"y\",\"type\":\"scatter\"},{\"customdata\":[[\"La \\u00e9pica batalla olvidada entre Canarias e Inglaterra en 1797\"],[\"Tragedia en el sur de Tenerife: el desplome del convento\"],[\"Explorando la historia militar de La Minilla en Gran Canaria\"],[\"La invasi\\u00f3n de Argel en Lanzarote: un cap\\u00edtulo oscuro.\"],[\"\\\"200 a\\u00f1os de la \\u00faltima erupci\\u00f3n en Lanzarote: historia impactante\\\"\"],[\"Tres a\\u00f1os de la tragedia volc\\u00e1nica en La Palma\"],[\"\\\"La tradici\\u00f3n de los artilleros en las fiestas del Cristo\\\"\"],[\"\\u00a1Romer\\u00eda hacia Teror para celebrar las fiestas del pino!\"],[\"El granero de Canarias: Lanzarote y Fuerteventura en el siglo XVIII\"],[\"\\\"La historia detr\\u00e1s de Arrecife, la capital de Lanzarote\\\"\"],[\"El misterio detr\\u00e1s de la explosi\\u00f3n en Las Canteras.\"],[\"\\\"Descubre el origen del f\\u00fatbol en Las Palmas\\\"\"],[\"El mot\\u00edn de Ag\\u00fcimes: la rebeli\\u00f3n que conquist\\u00f3 la tierra\"],[\"Descubre la historia de las fortificaciones de Las Palmas\"],[\"La historia del corsario que saque\\u00f3 Lanzarote en 1569\"],[\"Los coloridos carnavales de las islas Canarias: una tradici\\u00f3n prohibida\"],[\"El misterioso origen de las dunas de Maspalomas\"],[\"Celebrando el 546 aniversario de Las Palmas de Gran Canaria\"],[\"Descubre la verdadera historia de la expedici\\u00f3n a Canarias\"],[\"El papel olvidado de los artilleros canarios en Marruecos\"],[\"\\\"El tren que cruz\\u00f3 la avenida mar\\u00edtima hace 50 a\\u00f1os\\\"\"],[\"Descubre la historia desconocida del archipi\\u00e9lago cercano a Canarias\"],[\"La invasi\\u00f3n holandesa a Las Palmas: historia revelada\"],[\"El origen geol\\u00f3gico de las Islas Canarias al descubierto\"],[\"Las impactantes ejecuciones en Las Palmas de Gran Canaria\"],[\"Descubre la historia detr\\u00e1s de la Plaza de Santa Ana\"],[\"El devastador brote de c\\u00f3lera en Gran Canaria, 1851\"],[\"La construcci\\u00f3n del Puerto de la Luz impuls\\u00f3 la econom\\u00eda\"],[\"El naufragio del Sud America: tragedia en Las Palmas\"],[\"Descubre la historia desconocida de las corridas de toros en Las Palmas\"],[\"La invasi\\u00f3n holandesa que marc\\u00f3 la historia de Las Palmas\"]],\"hovertemplate\":\"Categoria=Acontecimientos Hist\\u00f3ricos\\u003cbr\\u003eLikes=%{x}\\u003cbr\\u003eComentarios=%{y}\\u003cbr\\u003eVisualizaciones=%{marker.size}\\u003cbr\\u003eTitulo=%{customdata[0]}\\u003cextra\\u003e\\u003c\\u002fextra\\u003e\",\"legendgroup\":\"Acontecimientos Hist\\u00f3ricos\",\"marker\":{\"color\":\"#FFA15A\",\"size\":[4952,3052,6157,4664,7598,5241,5093,4926,5560,5566,45365,11580,5364,6294,5350,8957,38606,10743,7351,4852,69165,42154,5697,16928,5688,4216,6092,337001,6151,3372,12011],\"sizemode\":\"area\",\"sizeref\":842.5025,\"symbol\":\"circle\"},\"mode\":\"markers\",\"name\":\"Acontecimientos Hist\\u00f3ricos\",\"orientation\":\"v\",\"showlegend\":true,\"x\":[734,469,844,708,917,696,640,1017,796,789,3601,1387,829,958,708,1288,4384,1398,807,602,4497,2367,779,1611,752,365,790,14514,671,304,471],\"xaxis\":\"x\",\"y\":[43,16,41,27,11,23,23,23,8,17,127,50,27,49,18,25,110,62,26,11,179,72,20,20,31,3,19,333,33,19,14],\"yaxis\":\"y\",\"type\":\"scatter\"}],                        {\"template\":{\"data\":{\"histogram2dcontour\":[{\"type\":\"histogram2dcontour\",\"colorbar\":{\"outlinewidth\":0,\"ticks\":\"\"},\"colorscale\":[[0.0,\"#0d0887\"],[0.1111111111111111,\"#46039f\"],[0.2222222222222222,\"#7201a8\"],[0.3333333333333333,\"#9c179e\"],[0.4444444444444444,\"#bd3786\"],[0.5555555555555556,\"#d8576b\"],[0.6666666666666666,\"#ed7953\"],[0.7777777777777778,\"#fb9f3a\"],[0.8888888888888888,\"#fdca26\"],[1.0,\"#f0f921\"]]}],\"choropleth\":[{\"type\":\"choropleth\",\"colorbar\":{\"outlinewidth\":0,\"ticks\":\"\"}}],\"histogram2d\":[{\"type\":\"histogram2d\",\"colorbar\":{\"outlinewidth\":0,\"ticks\":\"\"},\"colorscale\":[[0.0,\"#0d0887\"],[0.1111111111111111,\"#46039f\"],[0.2222222222222222,\"#7201a8\"],[0.3333333333333333,\"#9c179e\"],[0.4444444444444444,\"#bd3786\"],[0.5555555555555556,\"#d8576b\"],[0.6666666666666666,\"#ed7953\"],[0.7777777777777778,\"#fb9f3a\"],[0.8888888888888888,\"#fdca26\"],[1.0,\"#f0f921\"]]}],\"heatmap\":[{\"type\":\"heatmap\",\"colorbar\":{\"outlinewidth\":0,\"ticks\":\"\"},\"colorscale\":[[0.0,\"#0d0887\"],[0.1111111111111111,\"#46039f\"],[0.2222222222222222,\"#7201a8\"],[0.3333333333333333,\"#9c179e\"],[0.4444444444444444,\"#bd3786\"],[0.5555555555555556,\"#d8576b\"],[0.6666666666666666,\"#ed7953\"],[0.7777777777777778,\"#fb9f3a\"],[0.8888888888888888,\"#fdca26\"],[1.0,\"#f0f921\"]]}],\"heatmapgl\":[{\"type\":\"heatmapgl\",\"colorbar\":{\"outlinewidth\":0,\"ticks\":\"\"},\"colorscale\":[[0.0,\"#0d0887\"],[0.1111111111111111,\"#46039f\"],[0.2222222222222222,\"#7201a8\"],[0.3333333333333333,\"#9c179e\"],[0.4444444444444444,\"#bd3786\"],[0.5555555555555556,\"#d8576b\"],[0.6666666666666666,\"#ed7953\"],[0.7777777777777778,\"#fb9f3a\"],[0.8888888888888888,\"#fdca26\"],[1.0,\"#f0f921\"]]}],\"contourcarpet\":[{\"type\":\"contourcarpet\",\"colorbar\":{\"outlinewidth\":0,\"ticks\":\"\"}}],\"contour\":[{\"type\":\"contour\",\"colorbar\":{\"outlinewidth\":0,\"ticks\":\"\"},\"colorscale\":[[0.0,\"#0d0887\"],[0.1111111111111111,\"#46039f\"],[0.2222222222222222,\"#7201a8\"],[0.3333333333333333,\"#9c179e\"],[0.4444444444444444,\"#bd3786\"],[0.5555555555555556,\"#d8576b\"],[0.6666666666666666,\"#ed7953\"],[0.7777777777777778,\"#fb9f3a\"],[0.8888888888888888,\"#fdca26\"],[1.0,\"#f0f921\"]]}],\"surface\":[{\"type\":\"surface\",\"colorbar\":{\"outlinewidth\":0,\"ticks\":\"\"},\"colorscale\":[[0.0,\"#0d0887\"],[0.1111111111111111,\"#46039f\"],[0.2222222222222222,\"#7201a8\"],[0.3333333333333333,\"#9c179e\"],[0.4444444444444444,\"#bd3786\"],[0.5555555555555556,\"#d8576b\"],[0.6666666666666666,\"#ed7953\"],[0.7777777777777778,\"#fb9f3a\"],[0.8888888888888888,\"#fdca26\"],[1.0,\"#f0f921\"]]}],\"mesh3d\":[{\"type\":\"mesh3d\",\"colorbar\":{\"outlinewidth\":0,\"ticks\":\"\"}}],\"scatter\":[{\"fillpattern\":{\"fillmode\":\"overlay\",\"size\":10,\"solidity\":0.2},\"type\":\"scatter\"}],\"parcoords\":[{\"type\":\"parcoords\",\"line\":{\"colorbar\":{\"outlinewidth\":0,\"ticks\":\"\"}}}],\"scatterpolargl\":[{\"type\":\"scatterpolargl\",\"marker\":{\"colorbar\":{\"outlinewidth\":0,\"ticks\":\"\"}}}],\"bar\":[{\"error_x\":{\"color\":\"#2a3f5f\"},\"error_y\":{\"color\":\"#2a3f5f\"},\"marker\":{\"line\":{\"color\":\"#E5ECF6\",\"width\":0.5},\"pattern\":{\"fillmode\":\"overlay\",\"size\":10,\"solidity\":0.2}},\"type\":\"bar\"}],\"scattergeo\":[{\"type\":\"scattergeo\",\"marker\":{\"colorbar\":{\"outlinewidth\":0,\"ticks\":\"\"}}}],\"scatterpolar\":[{\"type\":\"scatterpolar\",\"marker\":{\"colorbar\":{\"outlinewidth\":0,\"ticks\":\"\"}}}],\"histogram\":[{\"marker\":{\"pattern\":{\"fillmode\":\"overlay\",\"size\":10,\"solidity\":0.2}},\"type\":\"histogram\"}],\"scattergl\":[{\"type\":\"scattergl\",\"marker\":{\"colorbar\":{\"outlinewidth\":0,\"ticks\":\"\"}}}],\"scatter3d\":[{\"type\":\"scatter3d\",\"line\":{\"colorbar\":{\"outlinewidth\":0,\"ticks\":\"\"}},\"marker\":{\"colorbar\":{\"outlinewidth\":0,\"ticks\":\"\"}}}],\"scattermapbox\":[{\"type\":\"scattermapbox\",\"marker\":{\"colorbar\":{\"outlinewidth\":0,\"ticks\":\"\"}}}],\"scatterternary\":[{\"type\":\"scatterternary\",\"marker\":{\"colorbar\":{\"outlinewidth\":0,\"ticks\":\"\"}}}],\"scattercarpet\":[{\"type\":\"scattercarpet\",\"marker\":{\"colorbar\":{\"outlinewidth\":0,\"ticks\":\"\"}}}],\"carpet\":[{\"aaxis\":{\"endlinecolor\":\"#2a3f5f\",\"gridcolor\":\"white\",\"linecolor\":\"white\",\"minorgridcolor\":\"white\",\"startlinecolor\":\"#2a3f5f\"},\"baxis\":{\"endlinecolor\":\"#2a3f5f\",\"gridcolor\":\"white\",\"linecolor\":\"white\",\"minorgridcolor\":\"white\",\"startlinecolor\":\"#2a3f5f\"},\"type\":\"carpet\"}],\"table\":[{\"cells\":{\"fill\":{\"color\":\"#EBF0F8\"},\"line\":{\"color\":\"white\"}},\"header\":{\"fill\":{\"color\":\"#C8D4E3\"},\"line\":{\"color\":\"white\"}},\"type\":\"table\"}],\"barpolar\":[{\"marker\":{\"line\":{\"color\":\"#E5ECF6\",\"width\":0.5},\"pattern\":{\"fillmode\":\"overlay\",\"size\":10,\"solidity\":0.2}},\"type\":\"barpolar\"}],\"pie\":[{\"automargin\":true,\"type\":\"pie\"}]},\"layout\":{\"autotypenumbers\":\"strict\",\"colorway\":[\"#636efa\",\"#EF553B\",\"#00cc96\",\"#ab63fa\",\"#FFA15A\",\"#19d3f3\",\"#FF6692\",\"#B6E880\",\"#FF97FF\",\"#FECB52\"],\"font\":{\"color\":\"#2a3f5f\"},\"hovermode\":\"closest\",\"hoverlabel\":{\"align\":\"left\"},\"paper_bgcolor\":\"white\",\"plot_bgcolor\":\"#E5ECF6\",\"polar\":{\"bgcolor\":\"#E5ECF6\",\"angularaxis\":{\"gridcolor\":\"white\",\"linecolor\":\"white\",\"ticks\":\"\"},\"radialaxis\":{\"gridcolor\":\"white\",\"linecolor\":\"white\",\"ticks\":\"\"}},\"ternary\":{\"bgcolor\":\"#E5ECF6\",\"aaxis\":{\"gridcolor\":\"white\",\"linecolor\":\"white\",\"ticks\":\"\"},\"baxis\":{\"gridcolor\":\"white\",\"linecolor\":\"white\",\"ticks\":\"\"},\"caxis\":{\"gridcolor\":\"white\",\"linecolor\":\"white\",\"ticks\":\"\"}},\"coloraxis\":{\"colorbar\":{\"outlinewidth\":0,\"ticks\":\"\"}},\"colorscale\":{\"sequential\":[[0.0,\"#0d0887\"],[0.1111111111111111,\"#46039f\"],[0.2222222222222222,\"#7201a8\"],[0.3333333333333333,\"#9c179e\"],[0.4444444444444444,\"#bd3786\"],[0.5555555555555556,\"#d8576b\"],[0.6666666666666666,\"#ed7953\"],[0.7777777777777778,\"#fb9f3a\"],[0.8888888888888888,\"#fdca26\"],[1.0,\"#f0f921\"]],\"sequentialminus\":[[0.0,\"#0d0887\"],[0.1111111111111111,\"#46039f\"],[0.2222222222222222,\"#7201a8\"],[0.3333333333333333,\"#9c179e\"],[0.4444444444444444,\"#bd3786\"],[0.5555555555555556,\"#d8576b\"],[0.6666666666666666,\"#ed7953\"],[0.7777777777777778,\"#fb9f3a\"],[0.8888888888888888,\"#fdca26\"],[1.0,\"#f0f921\"]],\"diverging\":[[0,\"#8e0152\"],[0.1,\"#c51b7d\"],[0.2,\"#de77ae\"],[0.3,\"#f1b6da\"],[0.4,\"#fde0ef\"],[0.5,\"#f7f7f7\"],[0.6,\"#e6f5d0\"],[0.7,\"#b8e186\"],[0.8,\"#7fbc41\"],[0.9,\"#4d9221\"],[1,\"#276419\"]]},\"xaxis\":{\"gridcolor\":\"white\",\"linecolor\":\"white\",\"ticks\":\"\",\"title\":{\"standoff\":15},\"zerolinecolor\":\"white\",\"automargin\":true,\"zerolinewidth\":2},\"yaxis\":{\"gridcolor\":\"white\",\"linecolor\":\"white\",\"ticks\":\"\",\"title\":{\"standoff\":15},\"zerolinecolor\":\"white\",\"automargin\":true,\"zerolinewidth\":2},\"scene\":{\"xaxis\":{\"backgroundcolor\":\"#E5ECF6\",\"gridcolor\":\"white\",\"linecolor\":\"white\",\"showbackground\":true,\"ticks\":\"\",\"zerolinecolor\":\"white\",\"gridwidth\":2},\"yaxis\":{\"backgroundcolor\":\"#E5ECF6\",\"gridcolor\":\"white\",\"linecolor\":\"white\",\"showbackground\":true,\"ticks\":\"\",\"zerolinecolor\":\"white\",\"gridwidth\":2},\"zaxis\":{\"backgroundcolor\":\"#E5ECF6\",\"gridcolor\":\"white\",\"linecolor\":\"white\",\"showbackground\":true,\"ticks\":\"\",\"zerolinecolor\":\"white\",\"gridwidth\":2}},\"shapedefaults\":{\"line\":{\"color\":\"#2a3f5f\"}},\"annotationdefaults\":{\"arrowcolor\":\"#2a3f5f\",\"arrowhead\":0,\"arrowwidth\":1},\"geo\":{\"bgcolor\":\"white\",\"landcolor\":\"#E5ECF6\",\"subunitcolor\":\"white\",\"showland\":true,\"showlakes\":true,\"lakecolor\":\"white\"},\"title\":{\"x\":0.05},\"mapbox\":{\"style\":\"light\"}}},\"xaxis\":{\"anchor\":\"y\",\"domain\":[0.0,1.0],\"title\":{\"text\":\"Likes\"}},\"yaxis\":{\"anchor\":\"x\",\"domain\":[0.0,1.0],\"title\":{\"text\":\"Comentarios\"}},\"legend\":{\"title\":{\"text\":\"Categoria\"},\"tracegroupgap\":0,\"itemsizing\":\"constant\"},\"title\":{\"text\":\"Relaci\\u00f3n entre Likes y Comentarios\"}},                        {\"responsive\": true}                    ).then(function(){\n",
       "                            \n",
       "var gd = document.getElementById('0dea3947-9659-4055-8a4d-28fc16d9fb94');\n",
       "var x = new MutationObserver(function (mutations, observer) {{\n",
       "        var display = window.getComputedStyle(gd).display;\n",
       "        if (!display || display === 'none') {{\n",
       "            console.log([gd, 'removed!']);\n",
       "            Plotly.purge(gd);\n",
       "            observer.disconnect();\n",
       "        }}\n",
       "}});\n",
       "\n",
       "// Listen for the removal of the full notebook cells\n",
       "var notebookContainer = gd.closest('#notebook-container');\n",
       "if (notebookContainer) {{\n",
       "    x.observe(notebookContainer, {childList: true});\n",
       "}}\n",
       "\n",
       "// Listen for the clearing of the current output cell\n",
       "var outputEl = gd.closest('.output');\n",
       "if (outputEl) {{\n",
       "    x.observe(outputEl, {childList: true});\n",
       "}}\n",
       "\n",
       "                        })                };                });            </script>        </div>"
      ]
     },
     "metadata": {},
     "output_type": "display_data"
    },
    {
     "data": {
      "image/png": "[encoded data removed]",
      "text/plain": [
       "<Figure size 2000x2000 with 5 Axes>"
      ]
     },
     "metadata": {},
     "output_type": "display_data"
    }
   ],
   "source": [
    "import pandas as pd\n",
    "import matplotlib.pyplot as plt\n",
    "import seaborn as sns\n",
    "import numpy as np\n",
    "\n",
    "# Cargar los datos\n",
    "df = pd.read_excel('excel26deenero.xlsx')\n",
    "\n",
    "# Estadísticas descriptivas para columnas numéricas\n",
    "descriptive_stats = df[['Likes', 'Comentarios', 'Visualizaciones', 'Duración del video (s)']].describe()\n",
    "print(\"Estadísticas Descriptivas:\")\n",
    "print(descriptive_stats)\n",
    "\n",
    "# Seleccionar el top 5 videos con más likes\n",
    "top_5_likes = df[['Texto del reel', 'Likes', 'Comentarios', 'Visualizaciones']].sort_values(by='Likes', ascending=False).head(5)\n",
    "\n",
    "# Mostrar la tabla\n",
    "print(\"\\nTop 5 videos con más Likes:\")\n",
    "print(top_5_likes)\n",
    "# Preparar los datos para la visualización\n",
    "data = df.groupby('Categoria').agg({\n",
    "    'Likes': 'sum',\n",
    "    'Comentarios': 'sum',\n",
    "    'Visualizaciones': 'sum'\n",
    "}).reset_index()\n",
    "\n",
    "# Crear la figura con cuatro subplots\n",
    "fig, ((ax1, ax2), (ax3, ax4)) = plt.subplots(2, 2, figsize=(20, 20))\n",
    "\n",
    "# Gráfico de barras apiladas\n",
    "sns.set_style(\"whitegrid\")\n",
    "sns.set_palette(\"husl\")\n",
    "\n",
    "bottom = np.zeros(len(data))\n",
    "for column in ['Likes', 'Comentarios', 'Visualizaciones']:\n",
    "    ax1.bar(data['Categoria'], data[column], bottom=bottom, label=column)\n",
    "    bottom += data[column]\n",
    "\n",
    "ax1.set_title('Engagement por Categoría', fontsize=16)\n",
    "ax1.set_xlabel('Categoría', fontsize=12)\n",
    "ax1.set_ylabel('Cantidad', fontsize=12)\n",
    "ax1.legend(title='Tipo de Engagement', title_fontsize='11', fontsize='10')\n",
    "ax1.set_xticklabels(ax1.get_xticklabels(), rotation=45, ha='right')\n",
    "\n",
    "for i, categoria in enumerate(data['Categoria']):\n",
    "    total = sum(data.loc[i, ['Likes', 'Comentarios', 'Visualizaciones']])\n",
    "    ax1.text(i, total, f'{total:,}', ha='center', va='bottom')\n",
    "\n",
    "# Gráfico de barras solo para comentarios\n",
    "sns.barplot(x='Categoria', y='Comentarios', data=data, ax=ax2)\n",
    "ax2.set_title('Comentarios por Categoría', fontsize=16)\n",
    "ax2.set_xlabel('Categoría', fontsize=12)\n",
    "ax2.set_ylabel('Número de Comentarios', fontsize=12)\n",
    "ax2.set_xticklabels(ax2.get_xticklabels(), rotation=45, ha='right')\n",
    "\n",
    "for i, v in enumerate(data['Comentarios']):\n",
    "    ax2.text(i, v, str(v), ha='center', va='bottom')\n",
    "\n",
    "\n",
    "# Mapa de calor para visualizar correlaciones entre variables numéricas\n",
    "numeric_cols = ['Likes', 'Comentarios', 'Visualizaciones', 'Duración del video (s)']\n",
    "sns.heatmap(df[numeric_cols].corr(), annot=True, cmap='coolwarm', ax=ax4)\n",
    "ax4.set_title('Mapa de Calor de Correlaciones', fontsize=16)\n",
    "\n",
    "import plotly.express as px\n",
    "\n",
    "# Crear gráfico interactivo\n",
    "fig = px.scatter(df, x='Likes', y='Comentarios', size='Visualizaciones', \n",
    "                 color='Categoria',\n",
    "                 hover_data=['Titulo'],\n",
    "                 title='Relación entre Likes y Comentarios',\n",
    "                 labels={'Likes': 'Likes', 'Comentarios': 'Comentarios'})\n",
    "\n",
    "# Mostrar gráfico\n",
    "fig.show()\n",
    "plt.tight_layout()\n",
    "plt.show()\n"
   ]
  },
  {
   "cell_type": "code",
   "execution_count": null,
   "id": "556837dd-b238-430c-8b16-a6dddfe3696f",
   "metadata": {},
   "outputs": [],
   "source": []
  }
 ],
 "metadata": {
  "kernelspec": {
   "display_name": "Python 3 (ipykernel)",
   "language": "python",
   "name": "python3"
  },
  "language_info": {
   "codemirror_mode": {
    "name": "ipython",
    "version": 3
   },
   "file_extension": ".py",
   "mimetype": "text/x-python",
   "name": "python",
   "nbconvert_exporter": "python",
   "pygments_lexer": "ipython3",
   "version": "3.12.4"
  }
 },
 "nbformat": 4,
 "nbformat_minor": 5
}
